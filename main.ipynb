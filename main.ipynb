{
 "cells": [
  {
   "cell_type": "code",
   "execution_count": 2,
   "metadata": {},
   "outputs": [],
   "source": [
    "from pathlib import Path \n",
    "import numpy as np\n",
    "from PIL import Image\n",
    "\n",
    "ls = []\n",
    "# https://stackoverflow.com/questions/39909655/listing-of-all-files-in-directory \n",
    "files = [x for x in Path(\"./images_copy\").rglob(\"*\") if x.is_file()]# \n",
    "\n",
    "for file in files:\n",
    "    if file.exists():\n",
    "        img = np.array(Image.open(file).convert(\"L\"))       \n",
    "        path = str(file)\n",
    "        number = path.split(\"\\\\\")[1] \n",
    "        img = np.ravel(img)\n",
    "        if number == \"zero\":\n",
    "            x = np.append(img, [0])\n",
    "        elif number == \"one\":\n",
    "            x = np.append(img, [1])\n",
    "        elif number == \"two\":    \n",
    "            x = np.append(img, [2])\n",
    "        elif number == \"three\":\n",
    "            x = np.append(img, [3])\n",
    "        elif number == \"four\":\n",
    "            x = np.append(img, [4])\n",
    "        elif number == \"five\":\n",
    "            x = np.append(img, [5])\n",
    "        elif number == \"six\":\n",
    "            x = np.append(img, [6])\n",
    "        elif number == \"seven\":\n",
    "            x = np.append(img, [7])\n",
    "        elif number == \"eight\":\n",
    "            x = np.append(img, [8])\n",
    "        elif number == \"nine\":\n",
    "            x = np.append(img, [9])\n",
    "        ls.append(x)\n",
    "#         print(img.shape)"
   ]
  },
  {
   "cell_type": "code",
   "execution_count": 3,
   "metadata": {},
   "outputs": [],
   "source": [
    "import pandas as pd \n",
    "\n",
    "df = pd.DataFrame(ls)"
   ]
  },
  {
   "cell_type": "code",
   "execution_count": 4,
   "metadata": {},
   "outputs": [],
   "source": [
    "df = df.sample(frac=1).reset_index(drop=True)\n",
    "\n",
    "df_2 = df[int(len(df)*0.8):]"
   ]
  },
  {
   "cell_type": "code",
   "execution_count": 6,
   "metadata": {},
   "outputs": [
    {
     "name": "stdout",
     "output_type": "stream",
     "text": [
      "Checking whether there is an H2O instance running at http://localhost:54321 ..... not found.\n",
      "Attempting to start a local H2O server...\n",
      "; OpenJDK 64-Bit Server VM Corretto-11.0.12.7.1 (build 11.0.12+7-LTS, mixed mode)\n",
      "  Starting server from c:\\Users\\aravb\\Desktop\\PROGRAMS\\H2O_GBM_TEST\\.venv\\lib\\site-packages\\h2o\\backend\\bin\\h2o.jar\n",
      "  Ice root: C:\\Users\\aravb\\AppData\\Local\\Temp\\tmpsashuzlp\n",
      "  JVM stdout: C:\\Users\\aravb\\AppData\\Local\\Temp\\tmpsashuzlp\\h2o_abhardwaj_started_from_python.out\n",
      "  JVM stderr: C:\\Users\\aravb\\AppData\\Local\\Temp\\tmpsashuzlp\\h2o_abhardwaj_started_from_python.err\n",
      "  Server is running at http://127.0.0.1:54321\n",
      "Connecting to H2O server at http://127.0.0.1:54321 ... successful.\n"
     ]
    },
    {
     "data": {
      "text/html": [
       "<div style=\"overflow:auto\"><table style=\"width:50%\"><tr><td>H2O_cluster_uptime:</td>\n",
       "<td>02 secs</td></tr>\n",
       "<tr><td>H2O_cluster_timezone:</td>\n",
       "<td>America/New_York</td></tr>\n",
       "<tr><td>H2O_data_parsing_timezone:</td>\n",
       "<td>UTC</td></tr>\n",
       "<tr><td>H2O_cluster_version:</td>\n",
       "<td>3.32.1.7</td></tr>\n",
       "<tr><td>H2O_cluster_version_age:</td>\n",
       "<td>27 days </td></tr>\n",
       "<tr><td>H2O_cluster_name:</td>\n",
       "<td>H2O_from_python_abhardwaj_7059a8</td></tr>\n",
       "<tr><td>H2O_cluster_total_nodes:</td>\n",
       "<td>1</td></tr>\n",
       "<tr><td>H2O_cluster_free_memory:</td>\n",
       "<td>3.959 Gb</td></tr>\n",
       "<tr><td>H2O_cluster_total_cores:</td>\n",
       "<td>12</td></tr>\n",
       "<tr><td>H2O_cluster_allowed_cores:</td>\n",
       "<td>12</td></tr>\n",
       "<tr><td>H2O_cluster_status:</td>\n",
       "<td>accepting new members, healthy</td></tr>\n",
       "<tr><td>H2O_connection_url:</td>\n",
       "<td>http://127.0.0.1:54321</td></tr>\n",
       "<tr><td>H2O_connection_proxy:</td>\n",
       "<td>{\"http\": null, \"https\": null}</td></tr>\n",
       "<tr><td>H2O_internal_security:</td>\n",
       "<td>False</td></tr>\n",
       "<tr><td>H2O_API_Extensions:</td>\n",
       "<td>Amazon S3, Algos, AutoML, Core V3, TargetEncoder, Core V4</td></tr>\n",
       "<tr><td>Python_version:</td>\n",
       "<td>3.7.8 final</td></tr></table></div>"
      ],
      "text/plain": [
       "--------------------------  ---------------------------------------------------------\n",
       "H2O_cluster_uptime:         02 secs\n",
       "H2O_cluster_timezone:       America/New_York\n",
       "H2O_data_parsing_timezone:  UTC\n",
       "H2O_cluster_version:        3.32.1.7\n",
       "H2O_cluster_version_age:    27 days\n",
       "H2O_cluster_name:           H2O_from_python_abhardwaj_7059a8\n",
       "H2O_cluster_total_nodes:    1\n",
       "H2O_cluster_free_memory:    3.959 Gb\n",
       "H2O_cluster_total_cores:    12\n",
       "H2O_cluster_allowed_cores:  12\n",
       "H2O_cluster_status:         accepting new members, healthy\n",
       "H2O_connection_url:         http://127.0.0.1:54321\n",
       "H2O_connection_proxy:       {\"http\": null, \"https\": null}\n",
       "H2O_internal_security:      False\n",
       "H2O_API_Extensions:         Amazon S3, Algos, AutoML, Core V3, TargetEncoder, Core V4\n",
       "Python_version:             3.7.8 final\n",
       "--------------------------  ---------------------------------------------------------"
      ]
     },
     "metadata": {},
     "output_type": "display_data"
    }
   ],
   "source": [
    "import h2o \n",
    "h2o.init()"
   ]
  },
  {
   "cell_type": "code",
   "execution_count": 7,
   "metadata": {},
   "outputs": [
    {
     "name": "stdout",
     "output_type": "stream",
     "text": [
      "Parse progress: |██████████████████████████████████████████████████████████| 100%\n"
     ]
    }
   ],
   "source": [
    "data = h2o.import_file(\"https://h2o-public-test-data.s3.amazonaws.com/bigdata/laptop/mnist/train.csv.gz\")"
   ]
  },
  {
   "cell_type": "code",
   "execution_count": 8,
   "metadata": {},
   "outputs": [
    {
     "name": "stdout",
     "output_type": "stream",
     "text": [
      "Parse progress: |█████████████████████████████████████████████████████████| 100%\n"
     ]
    }
   ],
   "source": [
    "hf = h2o.H2OFrame(df_2)\n",
    "hf.col_names = data.col_names"
   ]
  },
  {
   "cell_type": "code",
   "execution_count": 9,
   "metadata": {},
   "outputs": [],
   "source": [
    "train, test, valid = hf.split_frame(ratios=[.7, .15])"
   ]
  },
  {
   "cell_type": "code",
   "execution_count": 10,
   "metadata": {},
   "outputs": [],
   "source": [
    "from h2o.estimators import H2OGradientBoostingEstimator\n",
    "\n",
    "gbm = H2OGradientBoostingEstimator(ntrees = 784, max_depth = 3, learn_rate=0.01, stopping_metric=\"AUTO\", stopping_rounds = 5, auc_type='MACRO_OVR')"
   ]
  },
  {
   "cell_type": "code",
   "execution_count": 11,
   "metadata": {},
   "outputs": [
    {
     "name": "stderr",
     "output_type": "stream",
     "text": [
      "c:\\Users\\aravb\\Desktop\\PROGRAMS\\H2O_GBM_TEST\\.venv\\lib\\site-packages\\h2o\\estimators\\estimator_base.py:201: RuntimeWarning: early stopping is enabled but neither score_tree_interval or score_each_iteration are defined. Early stopping will not be reproducible!\n",
      "  warnings.warn(mesg[\"message\"], RuntimeWarning)\n"
     ]
    },
    {
     "name": "stdout",
     "output_type": "stream",
     "text": [
      "gbm Model Build progress: |███████████████████████████████████████████████| 100%\n"
     ]
    }
   ],
   "source": [
    "response = \"C785\"\n",
    "train[response] = train[response].asfactor()\n",
    "predictors = train.columns\n",
    "gbm.train(x=predictors, y=response, training_frame=train)"
   ]
  },
  {
   "cell_type": "code",
   "execution_count": 12,
   "metadata": {},
   "outputs": [
    {
     "name": "stdout",
     "output_type": "stream",
     "text": [
      "gbm prediction progress: |████████████████████████████████████████████████| 100%\n"
     ]
    }
   ],
   "source": [
    "preds = gbm.predict(test)"
   ]
  },
  {
   "cell_type": "code",
   "execution_count": 13,
   "metadata": {},
   "outputs": [],
   "source": [
    "freqs = gbm.feature_frequencies(train)"
   ]
  },
  {
   "cell_type": "code",
   "execution_count": 14,
   "metadata": {},
   "outputs": [
    {
     "data": {
      "text/html": [
       "<table>\n",
       "<thead>\n",
       "<tr><th style=\"text-align: right;\">  predict</th><th style=\"text-align: right;\">         p0</th><th style=\"text-align: right;\">        p1</th><th style=\"text-align: right;\">        p2</th><th style=\"text-align: right;\">        p3</th><th style=\"text-align: right;\">         p4</th><th style=\"text-align: right;\">         p5</th><th style=\"text-align: right;\">        p6</th><th style=\"text-align: right;\">        p7</th><th style=\"text-align: right;\">         p8</th><th style=\"text-align: right;\">         p9</th></tr>\n",
       "</thead>\n",
       "<tbody>\n",
       "<tr><td style=\"text-align: right;\">        7</td><td style=\"text-align: right;\">0.00894978 </td><td style=\"text-align: right;\">0.00402865</td><td style=\"text-align: right;\">0.0876796 </td><td style=\"text-align: right;\">0.00135066</td><td style=\"text-align: right;\">0.00152253 </td><td style=\"text-align: right;\">0.0111632  </td><td style=\"text-align: right;\">0.00076619</td><td style=\"text-align: right;\">0.881813  </td><td style=\"text-align: right;\">0.00108285 </td><td style=\"text-align: right;\">0.00164395 </td></tr>\n",
       "<tr><td style=\"text-align: right;\">        7</td><td style=\"text-align: right;\">0.00830353 </td><td style=\"text-align: right;\">0.00101469</td><td style=\"text-align: right;\">0.0360157 </td><td style=\"text-align: right;\">0.00126119</td><td style=\"text-align: right;\">0.0120752  </td><td style=\"text-align: right;\">0.00379131 </td><td style=\"text-align: right;\">0.0021151 </td><td style=\"text-align: right;\">0.927071  </td><td style=\"text-align: right;\">0.00126123 </td><td style=\"text-align: right;\">0.00709119 </td></tr>\n",
       "<tr><td style=\"text-align: right;\">        9</td><td style=\"text-align: right;\">0.0215321  </td><td style=\"text-align: right;\">0.0222897 </td><td style=\"text-align: right;\">0.0471797 </td><td style=\"text-align: right;\">0.0661275 </td><td style=\"text-align: right;\">0.364076   </td><td style=\"text-align: right;\">0.0329566  </td><td style=\"text-align: right;\">0.00700201</td><td style=\"text-align: right;\">0.0154198 </td><td style=\"text-align: right;\">0.028755   </td><td style=\"text-align: right;\">0.394662   </td></tr>\n",
       "<tr><td style=\"text-align: right;\">        1</td><td style=\"text-align: right;\">0.0184891  </td><td style=\"text-align: right;\">0.632119  </td><td style=\"text-align: right;\">0.0603454 </td><td style=\"text-align: right;\">0.0245129 </td><td style=\"text-align: right;\">0.0156329  </td><td style=\"text-align: right;\">0.00589893 </td><td style=\"text-align: right;\">0.0272784 </td><td style=\"text-align: right;\">0.0484582 </td><td style=\"text-align: right;\">0.105498   </td><td style=\"text-align: right;\">0.0617669  </td></tr>\n",
       "<tr><td style=\"text-align: right;\">        8</td><td style=\"text-align: right;\">0.000511007</td><td style=\"text-align: right;\">0.00185398</td><td style=\"text-align: right;\">0.00474299</td><td style=\"text-align: right;\">0.00904477</td><td style=\"text-align: right;\">0.000930964</td><td style=\"text-align: right;\">0.00607256 </td><td style=\"text-align: right;\">0.00128775</td><td style=\"text-align: right;\">0.00196295</td><td style=\"text-align: right;\">0.973033   </td><td style=\"text-align: right;\">0.000559733</td></tr>\n",
       "<tr><td style=\"text-align: right;\">        9</td><td style=\"text-align: right;\">0.017938   </td><td style=\"text-align: right;\">0.0141469 </td><td style=\"text-align: right;\">0.0509737 </td><td style=\"text-align: right;\">0.14117   </td><td style=\"text-align: right;\">0.12427    </td><td style=\"text-align: right;\">0.0126848  </td><td style=\"text-align: right;\">0.00625382</td><td style=\"text-align: right;\">0.008375  </td><td style=\"text-align: right;\">0.0139489  </td><td style=\"text-align: right;\">0.610238   </td></tr>\n",
       "<tr><td style=\"text-align: right;\">        1</td><td style=\"text-align: right;\">0.0012293  </td><td style=\"text-align: right;\">0.956766  </td><td style=\"text-align: right;\">0.0074557 </td><td style=\"text-align: right;\">0.00123005</td><td style=\"text-align: right;\">0.00102296 </td><td style=\"text-align: right;\">0.000483904</td><td style=\"text-align: right;\">0.00270917</td><td style=\"text-align: right;\">0.0110289 </td><td style=\"text-align: right;\">0.000826876</td><td style=\"text-align: right;\">0.0172475  </td></tr>\n",
       "<tr><td style=\"text-align: right;\">        2</td><td style=\"text-align: right;\">0.00173952 </td><td style=\"text-align: right;\">0.0148365 </td><td style=\"text-align: right;\">0.76514   </td><td style=\"text-align: right;\">0.0331625 </td><td style=\"text-align: right;\">0.117057   </td><td style=\"text-align: right;\">0.00528955 </td><td style=\"text-align: right;\">0.00677598</td><td style=\"text-align: right;\">0.0107955 </td><td style=\"text-align: right;\">0.0110361  </td><td style=\"text-align: right;\">0.0341675  </td></tr>\n",
       "<tr><td style=\"text-align: right;\">        9</td><td style=\"text-align: right;\">0.00808847 </td><td style=\"text-align: right;\">0.0136544 </td><td style=\"text-align: right;\">0.0355238 </td><td style=\"text-align: right;\">0.00863027</td><td style=\"text-align: right;\">0.00332236 </td><td style=\"text-align: right;\">0.00573219 </td><td style=\"text-align: right;\">0.00303215</td><td style=\"text-align: right;\">0.0162789 </td><td style=\"text-align: right;\">0.00223542 </td><td style=\"text-align: right;\">0.903502   </td></tr>\n",
       "<tr><td style=\"text-align: right;\">        7</td><td style=\"text-align: right;\">0.0147413  </td><td style=\"text-align: right;\">0.20237   </td><td style=\"text-align: right;\">0.110125  </td><td style=\"text-align: right;\">0.0546743 </td><td style=\"text-align: right;\">0.084278   </td><td style=\"text-align: right;\">0.0371064  </td><td style=\"text-align: right;\">0.0231994 </td><td style=\"text-align: right;\">0.312718  </td><td style=\"text-align: right;\">0.0104559  </td><td style=\"text-align: right;\">0.150332   </td></tr>\n",
       "</tbody>\n",
       "</table>"
      ]
     },
     "metadata": {},
     "output_type": "display_data"
    },
    {
     "data": {
      "text/plain": [
       "<bound method H2OFrame.head of >"
      ]
     },
     "execution_count": 14,
     "metadata": {},
     "output_type": "execute_result"
    }
   ],
   "source": [
    "preds.head"
   ]
  },
  {
   "cell_type": "code",
   "execution_count": 15,
   "metadata": {},
   "outputs": [],
   "source": [
    "perf = gbm.model_performance(valid)"
   ]
  },
  {
   "cell_type": "code",
   "execution_count": 16,
   "metadata": {},
   "outputs": [
    {
     "name": "stdout",
     "output_type": "stream",
     "text": [
      "\n",
      "ModelMetricsMultinomial: gbm\n",
      "** Reported on test data. **\n",
      "\n",
      "MSE: 0.10855062390018719\n",
      "RMSE: 0.32947021701541884\n",
      "LogLoss: 0.35604740952011965\n",
      "Mean Per-Class Error: 0.0641024920325699\n",
      "AUC: NaN\n",
      "AUCPR: NaN\n",
      "Multinomial auc values: Table is not computed because it is disabled (model parameter 'auc_type' is set to AUTO or NONE) or due to domain size (maximum is 50 domains).\n",
      "Multinomial auc_pr values: Table is not computed because it is disabled (model parameter 'auc_type' is set to AUTO or NONE) or due to domain size (maximum is 50 domains).\n",
      "\n",
      "Confusion Matrix: Row labels: Actual class; Column labels: Predicted class\n"
     ]
    },
    {
     "data": {
      "text/html": [
       "<div>\n",
       "<style scoped>\n",
       "    .dataframe tbody tr th:only-of-type {\n",
       "        vertical-align: middle;\n",
       "    }\n",
       "\n",
       "    .dataframe tbody tr th {\n",
       "        vertical-align: top;\n",
       "    }\n",
       "\n",
       "    .dataframe thead th {\n",
       "        text-align: right;\n",
       "    }\n",
       "</style>\n",
       "<table border=\"1\" class=\"dataframe\">\n",
       "  <thead>\n",
       "    <tr style=\"text-align: right;\">\n",
       "      <th></th>\n",
       "      <th>0</th>\n",
       "      <th>1</th>\n",
       "      <th>2</th>\n",
       "      <th>3</th>\n",
       "      <th>4</th>\n",
       "      <th>5</th>\n",
       "      <th>6</th>\n",
       "      <th>7</th>\n",
       "      <th>8</th>\n",
       "      <th>9</th>\n",
       "      <th>Error</th>\n",
       "      <th>Rate</th>\n",
       "    </tr>\n",
       "  </thead>\n",
       "  <tbody>\n",
       "    <tr>\n",
       "      <th>0</th>\n",
       "      <td>119.0</td>\n",
       "      <td>0.0</td>\n",
       "      <td>0.0</td>\n",
       "      <td>0.0</td>\n",
       "      <td>0.0</td>\n",
       "      <td>0.0</td>\n",
       "      <td>1.0</td>\n",
       "      <td>2.0</td>\n",
       "      <td>0.0</td>\n",
       "      <td>3.0</td>\n",
       "      <td>0.048000</td>\n",
       "      <td>6 / 125</td>\n",
       "    </tr>\n",
       "    <tr>\n",
       "      <th>1</th>\n",
       "      <td>0.0</td>\n",
       "      <td>169.0</td>\n",
       "      <td>0.0</td>\n",
       "      <td>0.0</td>\n",
       "      <td>0.0</td>\n",
       "      <td>0.0</td>\n",
       "      <td>1.0</td>\n",
       "      <td>1.0</td>\n",
       "      <td>0.0</td>\n",
       "      <td>1.0</td>\n",
       "      <td>0.017442</td>\n",
       "      <td>3 / 172</td>\n",
       "    </tr>\n",
       "    <tr>\n",
       "      <th>2</th>\n",
       "      <td>1.0</td>\n",
       "      <td>0.0</td>\n",
       "      <td>127.0</td>\n",
       "      <td>0.0</td>\n",
       "      <td>0.0</td>\n",
       "      <td>5.0</td>\n",
       "      <td>2.0</td>\n",
       "      <td>7.0</td>\n",
       "      <td>0.0</td>\n",
       "      <td>1.0</td>\n",
       "      <td>0.111888</td>\n",
       "      <td>16 / 143</td>\n",
       "    </tr>\n",
       "    <tr>\n",
       "      <th>3</th>\n",
       "      <td>0.0</td>\n",
       "      <td>0.0</td>\n",
       "      <td>1.0</td>\n",
       "      <td>138.0</td>\n",
       "      <td>6.0</td>\n",
       "      <td>3.0</td>\n",
       "      <td>0.0</td>\n",
       "      <td>0.0</td>\n",
       "      <td>1.0</td>\n",
       "      <td>1.0</td>\n",
       "      <td>0.080000</td>\n",
       "      <td>12 / 150</td>\n",
       "    </tr>\n",
       "    <tr>\n",
       "      <th>4</th>\n",
       "      <td>0.0</td>\n",
       "      <td>0.0</td>\n",
       "      <td>0.0</td>\n",
       "      <td>0.0</td>\n",
       "      <td>163.0</td>\n",
       "      <td>0.0</td>\n",
       "      <td>0.0</td>\n",
       "      <td>1.0</td>\n",
       "      <td>0.0</td>\n",
       "      <td>8.0</td>\n",
       "      <td>0.052326</td>\n",
       "      <td>9 / 172</td>\n",
       "    </tr>\n",
       "    <tr>\n",
       "      <th>5</th>\n",
       "      <td>0.0</td>\n",
       "      <td>1.0</td>\n",
       "      <td>3.0</td>\n",
       "      <td>0.0</td>\n",
       "      <td>0.0</td>\n",
       "      <td>170.0</td>\n",
       "      <td>0.0</td>\n",
       "      <td>1.0</td>\n",
       "      <td>3.0</td>\n",
       "      <td>1.0</td>\n",
       "      <td>0.050279</td>\n",
       "      <td>9 / 179</td>\n",
       "    </tr>\n",
       "    <tr>\n",
       "      <th>6</th>\n",
       "      <td>1.0</td>\n",
       "      <td>2.0</td>\n",
       "      <td>4.0</td>\n",
       "      <td>0.0</td>\n",
       "      <td>0.0</td>\n",
       "      <td>1.0</td>\n",
       "      <td>154.0</td>\n",
       "      <td>0.0</td>\n",
       "      <td>0.0</td>\n",
       "      <td>1.0</td>\n",
       "      <td>0.055215</td>\n",
       "      <td>9 / 163</td>\n",
       "    </tr>\n",
       "    <tr>\n",
       "      <th>7</th>\n",
       "      <td>0.0</td>\n",
       "      <td>2.0</td>\n",
       "      <td>0.0</td>\n",
       "      <td>0.0</td>\n",
       "      <td>1.0</td>\n",
       "      <td>1.0</td>\n",
       "      <td>0.0</td>\n",
       "      <td>141.0</td>\n",
       "      <td>0.0</td>\n",
       "      <td>0.0</td>\n",
       "      <td>0.027586</td>\n",
       "      <td>4 / 145</td>\n",
       "    </tr>\n",
       "    <tr>\n",
       "      <th>8</th>\n",
       "      <td>0.0</td>\n",
       "      <td>0.0</td>\n",
       "      <td>0.0</td>\n",
       "      <td>5.0</td>\n",
       "      <td>0.0</td>\n",
       "      <td>2.0</td>\n",
       "      <td>2.0</td>\n",
       "      <td>0.0</td>\n",
       "      <td>167.0</td>\n",
       "      <td>3.0</td>\n",
       "      <td>0.067039</td>\n",
       "      <td>12 / 179</td>\n",
       "    </tr>\n",
       "    <tr>\n",
       "      <th>9</th>\n",
       "      <td>0.0</td>\n",
       "      <td>2.0</td>\n",
       "      <td>0.0</td>\n",
       "      <td>0.0</td>\n",
       "      <td>11.0</td>\n",
       "      <td>1.0</td>\n",
       "      <td>1.0</td>\n",
       "      <td>3.0</td>\n",
       "      <td>3.0</td>\n",
       "      <td>139.0</td>\n",
       "      <td>0.131250</td>\n",
       "      <td>21 / 160</td>\n",
       "    </tr>\n",
       "    <tr>\n",
       "      <th>10</th>\n",
       "      <td>121.0</td>\n",
       "      <td>176.0</td>\n",
       "      <td>135.0</td>\n",
       "      <td>143.0</td>\n",
       "      <td>181.0</td>\n",
       "      <td>183.0</td>\n",
       "      <td>161.0</td>\n",
       "      <td>156.0</td>\n",
       "      <td>174.0</td>\n",
       "      <td>158.0</td>\n",
       "      <td>0.063602</td>\n",
       "      <td>101 / 1,588</td>\n",
       "    </tr>\n",
       "  </tbody>\n",
       "</table>\n",
       "</div>"
      ],
      "text/plain": [
       "        0      1      2      3      4      5      6      7      8      9  \\\n",
       "0   119.0    0.0    0.0    0.0    0.0    0.0    1.0    2.0    0.0    3.0   \n",
       "1     0.0  169.0    0.0    0.0    0.0    0.0    1.0    1.0    0.0    1.0   \n",
       "2     1.0    0.0  127.0    0.0    0.0    5.0    2.0    7.0    0.0    1.0   \n",
       "3     0.0    0.0    1.0  138.0    6.0    3.0    0.0    0.0    1.0    1.0   \n",
       "4     0.0    0.0    0.0    0.0  163.0    0.0    0.0    1.0    0.0    8.0   \n",
       "5     0.0    1.0    3.0    0.0    0.0  170.0    0.0    1.0    3.0    1.0   \n",
       "6     1.0    2.0    4.0    0.0    0.0    1.0  154.0    0.0    0.0    1.0   \n",
       "7     0.0    2.0    0.0    0.0    1.0    1.0    0.0  141.0    0.0    0.0   \n",
       "8     0.0    0.0    0.0    5.0    0.0    2.0    2.0    0.0  167.0    3.0   \n",
       "9     0.0    2.0    0.0    0.0   11.0    1.0    1.0    3.0    3.0  139.0   \n",
       "10  121.0  176.0  135.0  143.0  181.0  183.0  161.0  156.0  174.0  158.0   \n",
       "\n",
       "       Error         Rate  \n",
       "0   0.048000      6 / 125  \n",
       "1   0.017442      3 / 172  \n",
       "2   0.111888     16 / 143  \n",
       "3   0.080000     12 / 150  \n",
       "4   0.052326      9 / 172  \n",
       "5   0.050279      9 / 179  \n",
       "6   0.055215      9 / 163  \n",
       "7   0.027586      4 / 145  \n",
       "8   0.067039     12 / 179  \n",
       "9   0.131250     21 / 160  \n",
       "10  0.063602  101 / 1,588  "
      ]
     },
     "metadata": {},
     "output_type": "display_data"
    },
    {
     "name": "stdout",
     "output_type": "stream",
     "text": [
      "\n",
      "Top-10 Hit Ratios: \n"
     ]
    },
    {
     "data": {
      "text/html": [
       "<div>\n",
       "<style scoped>\n",
       "    .dataframe tbody tr th:only-of-type {\n",
       "        vertical-align: middle;\n",
       "    }\n",
       "\n",
       "    .dataframe tbody tr th {\n",
       "        vertical-align: top;\n",
       "    }\n",
       "\n",
       "    .dataframe thead th {\n",
       "        text-align: right;\n",
       "    }\n",
       "</style>\n",
       "<table border=\"1\" class=\"dataframe\">\n",
       "  <thead>\n",
       "    <tr style=\"text-align: right;\">\n",
       "      <th></th>\n",
       "      <th>k</th>\n",
       "      <th>hit_ratio</th>\n",
       "    </tr>\n",
       "  </thead>\n",
       "  <tbody>\n",
       "    <tr>\n",
       "      <th>0</th>\n",
       "      <td>1</td>\n",
       "      <td>0.936398</td>\n",
       "    </tr>\n",
       "    <tr>\n",
       "      <th>1</th>\n",
       "      <td>2</td>\n",
       "      <td>0.977330</td>\n",
       "    </tr>\n",
       "    <tr>\n",
       "      <th>2</th>\n",
       "      <td>3</td>\n",
       "      <td>0.991184</td>\n",
       "    </tr>\n",
       "    <tr>\n",
       "      <th>3</th>\n",
       "      <td>4</td>\n",
       "      <td>0.996222</td>\n",
       "    </tr>\n",
       "    <tr>\n",
       "      <th>4</th>\n",
       "      <td>5</td>\n",
       "      <td>0.998111</td>\n",
       "    </tr>\n",
       "    <tr>\n",
       "      <th>5</th>\n",
       "      <td>6</td>\n",
       "      <td>0.998111</td>\n",
       "    </tr>\n",
       "    <tr>\n",
       "      <th>6</th>\n",
       "      <td>7</td>\n",
       "      <td>0.998741</td>\n",
       "    </tr>\n",
       "    <tr>\n",
       "      <th>7</th>\n",
       "      <td>8</td>\n",
       "      <td>1.000000</td>\n",
       "    </tr>\n",
       "    <tr>\n",
       "      <th>8</th>\n",
       "      <td>9</td>\n",
       "      <td>1.000000</td>\n",
       "    </tr>\n",
       "    <tr>\n",
       "      <th>9</th>\n",
       "      <td>10</td>\n",
       "      <td>1.000000</td>\n",
       "    </tr>\n",
       "  </tbody>\n",
       "</table>\n",
       "</div>"
      ],
      "text/plain": [
       "    k  hit_ratio\n",
       "0   1   0.936398\n",
       "1   2   0.977330\n",
       "2   3   0.991184\n",
       "3   4   0.996222\n",
       "4   5   0.998111\n",
       "5   6   0.998111\n",
       "6   7   0.998741\n",
       "7   8   1.000000\n",
       "8   9   1.000000\n",
       "9  10   1.000000"
      ]
     },
     "metadata": {},
     "output_type": "display_data"
    },
    {
     "data": {
      "text/plain": []
     },
     "execution_count": 16,
     "metadata": {},
     "output_type": "execute_result"
    }
   ],
   "source": [
    "perf"
   ]
  }
 ],
 "metadata": {
  "interpreter": {
   "hash": "13033eff2d6abc78d4c0f088b89ecd500629fe4ef1e52cdc98e485420c71748b"
  },
  "kernelspec": {
   "display_name": "Python 3 (ipykernel)",
   "language": "python",
   "name": "python3"
  },
  "language_info": {
   "codemirror_mode": {
    "name": "ipython",
    "version": 3
   },
   "file_extension": ".py",
   "mimetype": "text/x-python",
   "name": "python",
   "nbconvert_exporter": "python",
   "pygments_lexer": "ipython3",
   "version": "3.7.8"
  }
 },
 "nbformat": 4,
 "nbformat_minor": 2
}
