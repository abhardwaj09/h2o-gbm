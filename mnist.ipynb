{
 "cells": [
  {
   "cell_type": "code",
   "execution_count": 1,
   "source": [
    "import idx2numpy # use to convert images + labels to numpy array\r\n",
    "import numpy as np \r\n",
    "import h2o"
   ],
   "outputs": [],
   "metadata": {}
  },
  {
   "cell_type": "code",
   "execution_count": 2,
   "source": [
    "h2o.init()\r\n",
    "model = h2o.load_model('mymodel2/DeepLearning_model_python_1626569539604_1') # load pre-trained model\r\n",
    "dataset = h2o.import_file('https://h2o-public-test-data.s3.amazonaws.com/bigdata/laptop/mnist/test.csv.gz')\r\n",
    "cols = dataset.col_names[:-1] "
   ],
   "outputs": [
    {
     "output_type": "stream",
     "name": "stdout",
     "text": [
      "Checking whether there is an H2O instance running at http://localhost:54321 . connected.\n"
     ]
    },
    {
     "output_type": "display_data",
     "data": {
      "text/plain": [
       "--------------------------  ---------------------------------------------------------\n",
       "H2O_cluster_uptime:         6 days 23 hours 42 mins\n",
       "H2O_cluster_timezone:       America/New_York\n",
       "H2O_data_parsing_timezone:  UTC\n",
       "H2O_cluster_version:        3.32.1.4\n",
       "H2O_cluster_version_age:    20 days\n",
       "H2O_cluster_name:           H2O_from_python_aravb_u5gjxg\n",
       "H2O_cluster_total_nodes:    1\n",
       "H2O_cluster_free_memory:    2.215 Gb\n",
       "H2O_cluster_total_cores:    12\n",
       "H2O_cluster_allowed_cores:  12\n",
       "H2O_cluster_status:         locked, healthy\n",
       "H2O_connection_url:         http://localhost:54321\n",
       "H2O_connection_proxy:       {\"http\": null, \"https\": null}\n",
       "H2O_internal_security:      False\n",
       "H2O_API_Extensions:         Amazon S3, Algos, AutoML, Core V3, TargetEncoder, Core V4\n",
       "Python_version:             3.9.6 final\n",
       "--------------------------  ---------------------------------------------------------"
      ],
      "text/html": [
       "<div style=\"overflow:auto\"><table style=\"width:50%\"><tr><td>H2O_cluster_uptime:</td>\n",
       "<td>6 days 23 hours 42 mins</td></tr>\n",
       "<tr><td>H2O_cluster_timezone:</td>\n",
       "<td>America/New_York</td></tr>\n",
       "<tr><td>H2O_data_parsing_timezone:</td>\n",
       "<td>UTC</td></tr>\n",
       "<tr><td>H2O_cluster_version:</td>\n",
       "<td>3.32.1.4</td></tr>\n",
       "<tr><td>H2O_cluster_version_age:</td>\n",
       "<td>20 days </td></tr>\n",
       "<tr><td>H2O_cluster_name:</td>\n",
       "<td>H2O_from_python_aravb_u5gjxg</td></tr>\n",
       "<tr><td>H2O_cluster_total_nodes:</td>\n",
       "<td>1</td></tr>\n",
       "<tr><td>H2O_cluster_free_memory:</td>\n",
       "<td>2.215 Gb</td></tr>\n",
       "<tr><td>H2O_cluster_total_cores:</td>\n",
       "<td>12</td></tr>\n",
       "<tr><td>H2O_cluster_allowed_cores:</td>\n",
       "<td>12</td></tr>\n",
       "<tr><td>H2O_cluster_status:</td>\n",
       "<td>locked, healthy</td></tr>\n",
       "<tr><td>H2O_connection_url:</td>\n",
       "<td>http://localhost:54321</td></tr>\n",
       "<tr><td>H2O_connection_proxy:</td>\n",
       "<td>{\"http\": null, \"https\": null}</td></tr>\n",
       "<tr><td>H2O_internal_security:</td>\n",
       "<td>False</td></tr>\n",
       "<tr><td>H2O_API_Extensions:</td>\n",
       "<td>Amazon S3, Algos, AutoML, Core V3, TargetEncoder, Core V4</td></tr>\n",
       "<tr><td>Python_version:</td>\n",
       "<td>3.9.6 final</td></tr></table></div>"
      ]
     },
     "metadata": {}
    },
    {
     "output_type": "stream",
     "name": "stdout",
     "text": [
      "Parse progress: |█████████████████████████████████████████████████████████| 100%\n"
     ]
    }
   ],
   "metadata": {}
  },
  {
   "cell_type": "code",
   "execution_count": 3,
   "source": [
    "file = \"data/train-images.idx3-ubyte\"\r\n",
    "\r\n",
    "imgs = idx2numpy.convert_from_file(file) "
   ],
   "outputs": [],
   "metadata": {}
  },
  {
   "cell_type": "code",
   "execution_count": 4,
   "source": [
    "imgs = imgs.reshape(60000, 784)"
   ],
   "outputs": [],
   "metadata": {}
  },
  {
   "cell_type": "code",
   "execution_count": 5,
   "source": [
    "labels = \"data/train-labels.idx1-ubyte\"\r\n",
    "\r\n",
    "labels = idx2numpy.convert_from_file(labels)"
   ],
   "outputs": [],
   "metadata": {}
  },
  {
   "cell_type": "code",
   "execution_count": 6,
   "source": [
    "selected_img = imgs[57]\r\n",
    "selected_img = selected_img.reshape(1, 784)\r\n",
    "h2o_fr = h2o.H2OFrame(selected_img)\r\n",
    "h2o_fr.col_names = cols\r\n",
    "model.predict(h2o_fr)"
   ],
   "outputs": [
    {
     "output_type": "stream",
     "name": "stdout",
     "text": [
      "Parse progress: |█████████████████████████████████████████████████████████| 100%\n",
      "deeplearning prediction progress: |███████████████████████████████████████| 100%\n"
     ]
    },
    {
     "output_type": "display_data",
     "data": {
      "text/html": [
       "<table>\n",
       "<thead>\n",
       "<tr><th style=\"text-align: right;\">  predict</th><th style=\"text-align: right;\">         p0</th><th style=\"text-align: right;\">         p1</th><th style=\"text-align: right;\">         p2</th><th style=\"text-align: right;\">        p3</th><th style=\"text-align: right;\">         p4</th><th style=\"text-align: right;\">         p5</th><th style=\"text-align: right;\">        p6</th><th style=\"text-align: right;\">         p7</th><th style=\"text-align: right;\">         p8</th><th style=\"text-align: right;\">  p9</th></tr>\n",
       "</thead>\n",
       "<tbody>\n",
       "<tr><td style=\"text-align: right;\">        9</td><td style=\"text-align: right;\">2.59672e-23</td><td style=\"text-align: right;\">8.96599e-20</td><td style=\"text-align: right;\">1.19098e-20</td><td style=\"text-align: right;\">2.0036e-10</td><td style=\"text-align: right;\">1.24435e-13</td><td style=\"text-align: right;\">7.54212e-16</td><td style=\"text-align: right;\">2.8305e-24</td><td style=\"text-align: right;\">1.63215e-10</td><td style=\"text-align: right;\">4.63178e-13</td><td style=\"text-align: right;\">   1</td></tr>\n",
       "</tbody>\n",
       "</table>"
      ]
     },
     "metadata": {}
    },
    {
     "output_type": "execute_result",
     "data": {
      "text/plain": []
     },
     "metadata": {},
     "execution_count": 6
    }
   ],
   "metadata": {}
  },
  {
   "cell_type": "code",
   "execution_count": 7,
   "source": [
    "print(labels[57]) # verify prediction by checking label"
   ],
   "outputs": [
    {
     "output_type": "stream",
     "name": "stdout",
     "text": [
      "9\n"
     ]
    }
   ],
   "metadata": {}
  },
  {
   "cell_type": "code",
   "execution_count": 14,
   "source": [
    "selected_img = imgs[1400]\r\n",
    "selected_img = selected_img.reshape(1, 784)\r\n",
    "h2o_fr = h2o.H2OFrame(selected_img)\r\n",
    "h2o_fr.col_names = cols\r\n",
    "model.predict(h2o_fr)"
   ],
   "outputs": [
    {
     "output_type": "stream",
     "name": "stdout",
     "text": [
      "Parse progress: |█████████████████████████████████████████████████████████| 100%\n"
     ]
    }
   ],
   "metadata": {}
  },
  {
   "cell_type": "code",
   "execution_count": null,
   "source": [
    "print(labels[1400]) "
   ],
   "outputs": [
    {
     "output_type": "stream",
     "name": "stdout",
     "text": [
      "5\n"
     ]
    }
   ],
   "metadata": {}
  },
  {
   "cell_type": "code",
   "execution_count": 13,
   "source": [
    "selected_img = imgs[59000]\r\n",
    "selected_img = selected_img.reshape(1, 784)\r\n",
    "h2o_fr = h2o.H2OFrame(selected_img)\r\n",
    "h2o_fr.col_names = cols\r\n",
    "model.predict(h2o_fr)"
   ],
   "outputs": [
    {
     "output_type": "stream",
     "name": "stdout",
     "text": [
      "Parse progress: |█████████████████████████████████████████████████████████| 100%\n",
      "deeplearning prediction progress: |███████████████████████████████████████| 100%\n"
     ]
    },
    {
     "output_type": "display_data",
     "data": {
      "text/html": [
       "<table>\n",
       "<thead>\n",
       "<tr><th style=\"text-align: right;\">  predict</th><th style=\"text-align: right;\">         p0</th><th style=\"text-align: right;\">         p1</th><th style=\"text-align: right;\">         p2</th><th style=\"text-align: right;\">        p3</th><th style=\"text-align: right;\">         p4</th><th style=\"text-align: right;\">         p5</th><th style=\"text-align: right;\">  p6</th><th style=\"text-align: right;\">         p7</th><th style=\"text-align: right;\">         p8</th><th style=\"text-align: right;\">         p9</th></tr>\n",
       "</thead>\n",
       "<tbody>\n",
       "<tr><td style=\"text-align: right;\">        6</td><td style=\"text-align: right;\">5.46341e-17</td><td style=\"text-align: right;\">1.26017e-22</td><td style=\"text-align: right;\">6.66949e-20</td><td style=\"text-align: right;\">7.6591e-23</td><td style=\"text-align: right;\">4.52315e-08</td><td style=\"text-align: right;\">6.18929e-15</td><td style=\"text-align: right;\">   1</td><td style=\"text-align: right;\">1.41637e-20</td><td style=\"text-align: right;\">4.00843e-19</td><td style=\"text-align: right;\">2.49297e-24</td></tr>\n",
       "</tbody>\n",
       "</table>"
      ]
     },
     "metadata": {}
    },
    {
     "output_type": "execute_result",
     "data": {
      "text/plain": []
     },
     "metadata": {},
     "execution_count": 13
    }
   ],
   "metadata": {}
  },
  {
   "cell_type": "code",
   "execution_count": 11,
   "source": [
    "print(labels[59000]) "
   ],
   "outputs": [
    {
     "output_type": "stream",
     "name": "stdout",
     "text": [
      "6\n"
     ]
    }
   ],
   "metadata": {}
  }
 ],
 "metadata": {
  "orig_nbformat": 4,
  "language_info": {
   "name": "python",
   "version": "3.9.6",
   "mimetype": "text/x-python",
   "codemirror_mode": {
    "name": "ipython",
    "version": 3
   },
   "pygments_lexer": "ipython3",
   "nbconvert_exporter": "python",
   "file_extension": ".py"
  },
  "kernelspec": {
   "name": "python3",
   "display_name": "Python 3.9.6 64-bit"
  },
  "interpreter": {
   "hash": "2b37748dc58f7dd909ad86b4d0f770249150e78003a049616edfc69147434d8d"
  }
 },
 "nbformat": 4,
 "nbformat_minor": 2
}